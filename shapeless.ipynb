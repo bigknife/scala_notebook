{
 "cells": [
  {
   "cell_type": "code",
   "execution_count": 1,
   "metadata": {},
   "outputs": [
    {
     "data": {
      "text/plain": [
       "\u001b[32mimport \u001b[39m\u001b[36m$ivy.$                             \n",
       "\n",
       "\u001b[39m\n",
       "\u001b[32mimport \u001b[39m\u001b[36mshapeless._\n",
       "\u001b[39m\n",
       "\u001b[32mimport \u001b[39m\u001b[36mHList._\n",
       "\n",
       "//List(1,2,3) map (_ + 1)\n",
       "\n",
       "/*\n",
       "def singleton[A](a: A) = List(a)\n",
       "\n",
       "// HList\n",
       "(23 :: \"foo\" :: false :: HNil) map singleton\n",
       "*/\n",
       "\n",
       "\u001b[39m\n",
       "defined \u001b[32mtrait\u001b[39m \u001b[36mShape\u001b[39m\n",
       "defined \u001b[32mclass\u001b[39m \u001b[36mRectangle\u001b[39m\n",
       "defined \u001b[32mclass\u001b[39m \u001b[36mCircle\u001b[39m\n",
       "\u001b[36mrect\u001b[39m: \u001b[32mShape\u001b[39m = Rectangle(3.0,4.0)\n",
       "\u001b[36mcirc\u001b[39m: \u001b[32mShape\u001b[39m = Circle(1.0)"
      ]
     },
     "execution_count": 1,
     "metadata": {},
     "output_type": "execute_result"
    }
   ],
   "source": [
    "import $ivy.`com.chuusai::shapeless:2.3.2`\n",
    "\n",
    "import shapeless._\n",
    "import HList._\n",
    "\n",
    "//List(1,2,3) map (_ + 1)\n",
    "\n",
    "/*\n",
    "def singleton[A](a: A) = List(a)\n",
    "\n",
    "// HList\n",
    "(23 :: \"foo\" :: false :: HNil) map singleton\n",
    "*/\n",
    "\n",
    "trait Shape\n",
    "case class Rectangle(width: Double, height: Double) extends Shape\n",
    "case class Circle(radius: Double) extends Shape\n",
    "\n",
    "val rect: Shape = Rectangle(3.0, 4.0)\n",
    "val circ: Shape = Circle(1.0)"
   ]
  }
 ],
 "metadata": {
  "kernelspec": {
   "display_name": "Scala",
   "language": "scala",
   "name": "scala"
  },
  "language_info": {
   "codemirror_mode": "text/x-scala",
   "file_extension": ".scala",
   "mimetype": "text/x-scala",
   "name": "scala211",
   "nbconvert_exporter": "script",
   "pygments_lexer": "scala",
   "version": "2.11.11"
  }
 },
 "nbformat": 4,
 "nbformat_minor": 2
}
